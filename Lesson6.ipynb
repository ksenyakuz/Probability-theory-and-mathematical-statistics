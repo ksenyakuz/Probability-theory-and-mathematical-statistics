{
 "cells": [
  {
   "cell_type": "markdown",
   "id": "091f1b90",
   "metadata": {},
   "source": [
    "### Задание 1. \n",
    "#### Даны значения величины заработной платы заемщиков банка (zp) и значения их поведенческого кредитного скоринга (ks):\n",
    "#### zp = [35, 45, 190, 200, 40, 70, 54, 150, 120, 110],\n",
    "#### ks = [401, 574, 874, 919, 459, 739, 653, 902, 746, 832]."
   ]
  },
  {
   "cell_type": "code",
   "execution_count": 1,
   "id": "de6cef27",
   "metadata": {},
   "outputs": [],
   "source": [
    "import numpy as np\n",
    "import pandas as pd\n",
    "from statsmodels.stats.weightstats import _tconfint_generic as t_stat\n",
    "from statsmodels.stats.weightstats import _zconfint_generic as z_stat"
   ]
  },
  {
   "cell_type": "markdown",
   "id": "756d0184",
   "metadata": {},
   "source": [
    "##### а) Найдите ковариацию этих двух величин с помощью элементарных действий, а затем с помощью функции cov из numpy. Полученные значения должны быть равны."
   ]
  },
  {
   "cell_type": "markdown",
   "id": "aba20bfe",
   "metadata": {},
   "source": [
    "$M(zp) = \\frac{35+45+190+200+40+70+54+150+120+110}{10} = \\frac{1014}{10} = {101.4}$"
   ]
  },
  {
   "cell_type": "markdown",
   "id": "fe9e395c",
   "metadata": {},
   "source": [
    "$M(ks) = \\frac{401+574+874+919+459+739+653+902+746+832}{10} = \\frac{7099}{10} = {709.9}$"
   ]
  },
  {
   "cell_type": "markdown",
   "id": "5211b85a",
   "metadata": {},
   "source": [
    "$cov(zp,ks) = ((35-101.4)(401-709.9)) + ((45-101.4)(574-709.9)) + ((190-101.4)(874-709.9)) + ((200-101.4)(919-709.9)) + ((40-101.4)(459-709.9)) + ((70-101.4)(739-709.9)) + ((54-101.4)(653-709.9)) + ((150-101.4)(902-709.9)) + ((120-101.4)(746-709.9)) + ((110-101.4)(832-709.9)) / (10-1) = (91578.4) / 9 = 10175.3778$"
   ]
  },
  {
   "cell_type": "markdown",
   "id": "39ff8a1d",
   "metadata": {},
   "source": [
    "#### Решение с помощью Python:"
   ]
  },
  {
   "cell_type": "code",
   "execution_count": 9,
   "id": "18ff7a42",
   "metadata": {},
   "outputs": [
    {
     "data": {
      "text/plain": [
       "10175.3778"
      ]
     },
     "execution_count": 9,
     "metadata": {},
     "output_type": "execute_result"
    }
   ],
   "source": [
    "zp = np.array([35, 45, 190, 200, 40, 70, 54, 150, 120, 110])\n",
    "ks = np.array([401, 574, 874, 919, 459, 739, 653, 902, 746, 832])\n",
    "cov = np.cov(zp, ks)\n",
    "np.round(cov[1, 0], 4)"
   ]
  },
  {
   "cell_type": "markdown",
   "id": "535a1085",
   "metadata": {},
   "source": [
    "##### b) Найдите коэффициент корреляции Пирсона с помощью ковариации и среднеквадратичных отклонений двух признаков, а затем с использованием функций из библиотек numpy и pandas."
   ]
  },
  {
   "cell_type": "markdown",
   "id": "c9bb1011",
   "metadata": {},
   "source": [
    "$D(zp) = \\frac{1}{n-1}\\sum\\limits_{i=1}^{n}(zp_i-M(zp))^2 = (35-101.4)^2 + (45-101.4)^2 + (190-101.4)^2 + (200-101.4)^2 + (40-101.4)^2 + (70-101.4)^2 + (54-101.4)^2 + (150-101.4)^2 + (120-101.4)^2 + (110-101.4)^2 / (10-1) = 788426.4 / 9 = 87602.93\n",
    "$"
   ]
  },
  {
   "cell_type": "markdown",
   "id": "ca3e41b7",
   "metadata": {},
   "source": [
    "$\\sigma_{zp} = \\sqrt{D(zp)} = \\sqrt{87602.93} = 295,9779$"
   ]
  },
  {
   "cell_type": "markdown",
   "id": "d1eb4d4d",
   "metadata": {},
   "source": [
    "$D(ks) = \\frac{1}{n-1}\\sum\\limits_{i=1}^{n}(ks_i-M(ks))^2 = ((401-709.9)^2) + ((574-709.9)^2) + ((874-709.9)^2) + ((919-709.9)^2) + ((459-709.9)^2) + ((739-709.9)^2) + ((653-709.9)^2) + ((902-709.9)^2) + ((746-709.9)^2) + ((832-709.9)^2) / (10-1) = 304688.9 / 9 = 33854.32\n",
    "$"
   ]
  },
  {
   "cell_type": "markdown",
   "id": "6e92639d",
   "metadata": {},
   "source": [
    "$\\sigma_{ks} = \\sqrt{D(ks)} = \\sqrt{33854.32} = 183,9954$"
   ]
  },
  {
   "cell_type": "markdown",
   "id": "bfc12a61",
   "metadata": {},
   "source": [
    "$r_{zp,ks} = \\frac{cov(zp,ks)}{\\sigma_{zp}*\\sigma_{ks}} = \\frac{10175.3778}{295,9779*183,9954} = \\frac{10175.3778}{54458,5721} = 0.8875$"
   ]
  },
  {
   "cell_type": "markdown",
   "id": "7d68345c",
   "metadata": {},
   "source": [
    "#### Решение с помощью Python:"
   ]
  },
  {
   "cell_type": "code",
   "execution_count": 27,
   "id": "3987e0dd",
   "metadata": {},
   "outputs": [
    {
     "data": {
      "text/plain": [
       "0.8875"
      ]
     },
     "execution_count": 27,
     "metadata": {},
     "output_type": "execute_result"
    }
   ],
   "source": [
    "np.round(cov[1, 0]/(zp.std(ddof=1)*ks.std(ddof=1)), 4)"
   ]
  },
  {
   "cell_type": "code",
   "execution_count": null,
   "id": "2a6ac329",
   "metadata": {},
   "outputs": [],
   "source": []
  },
  {
   "cell_type": "markdown",
   "id": "0aba2c5a",
   "metadata": {},
   "source": [
    "### Задание 2. \n",
    "#### Измерены значения IQ выборки студентов, обучающихся в местных технических вузах: 131, 125, 115, 122, 131, 115, 107, 99, 125, 111. \n",
    "#### Известно, что в генеральной совокупности IQ распределен нормально. \n",
    "#### Найдите доверительный интервал для математического ожидания с надежностью 0.95."
   ]
  },
  {
   "cell_type": "markdown",
   "id": "dcc35526",
   "metadata": {},
   "source": [
    "Неизвестна $\\sigma$, значит не было анализа генеральной совокупности, критерием оценки будет критерий Стьюдента $t$ из таблицы Стьюдента, тогда ошибка среднего - это $\\frac{s}{\\sqrt{n}}$, где $s$ - корень дисперсии по выборке $\\sqrt{{D_в}(X)}$, а $\\sqrt{{D_в}(X)}$ - несмещённая оценка дисперсии\n",
    "\n",
    "Генеральная совокупность распределена нормально, значит можем перейти от $\\alpha$ к $\\frac{\\alpha}{2}$\n"
   ]
  },
  {
   "cell_type": "markdown",
   "id": "5f9c4cd0",
   "metadata": {},
   "source": [
    "$P = 0.95 \\implies \\alpha = 1-P = 0.05$"
   ]
  },
  {
   "cell_type": "markdown",
   "id": "e0381809",
   "metadata": {},
   "source": [
    "$\\frac{\\alpha}{2} = \\frac{0.05}{2} = 0.025$"
   ]
  },
  {
   "cell_type": "markdown",
   "id": "38239d87",
   "metadata": {},
   "source": [
    "Считаем среднюю величину по выборке:"
   ]
  },
  {
   "cell_type": "markdown",
   "id": "36619fae",
   "metadata": {},
   "source": [
    "$\\bar{X_{в}} = \\frac{131+125+115+122+131+115+107+99+125+111}{10} = \\frac{1181}{10} = 118.1$"
   ]
  },
  {
   "cell_type": "markdown",
   "id": "c2bdba70",
   "metadata": {},
   "source": [
    "Находим дисперсию ${D_в}(X)$, а из неё среднеквадратичное отклонение $\\sigma$:"
   ]
  },
  {
   "cell_type": "markdown",
   "id": "692654ba",
   "metadata": {},
   "source": [
    "${D_в}(X) = \\frac{1}{n-1}\\sum\\limits_{i=1}^{n}(x_i-\\bar{X_{в}})^2 = ((131-118.1)^2) + ((125-118.1)^2) + ((115-118.1)^2) + ((122-118.1)^2) + ((131-118.1)^2) + ((115-118.1)^2) + ((107-118.1)^2) + ((99-118.1)^2) + ((125-118.1)^2) + ((111-118.1)^2) / (10-1) = 1000.9 / 9 = 111.2111$"
   ]
  },
  {
   "cell_type": "markdown",
   "id": "e78bc564",
   "metadata": {},
   "source": [
    "$\\sigma = \\sqrt{{D_в}(X)} = \\sqrt{111.2111} = 10.5456$"
   ]
  },
  {
   "cell_type": "markdown",
   "id": "a58bbc4e",
   "metadata": {},
   "source": [
    "Находим табличное значение $t$ Стьюдента, а для него:"
   ]
  },
  {
   "cell_type": "markdown",
   "id": "830346c7",
   "metadata": {},
   "source": [
    "$k = n - 1 = 10 - 1 = 9$"
   ]
  },
  {
   "cell_type": "markdown",
   "id": "5f2db2dd",
   "metadata": {},
   "source": [
    "$p = 1 - \\frac{\\alpha}{2} = 1 - 0.025 = 0.975 \\implies t_{\\frac{\\alpha}{2}} = 2.262$\n"
   ]
  },
  {
   "cell_type": "markdown",
   "id": "082e2b3e",
   "metadata": {},
   "source": [
    "Находим доверительный интервал по формуле:"
   ]
  },
  {
   "cell_type": "markdown",
   "id": "10cffffc",
   "metadata": {},
   "source": [
    "$[\\bar{X_{в}} \\pm t_{\\frac{\\alpha}{2}} * \\frac{s}{\\sqrt{n}}] \\implies [118.1 \\pm 2.262 * \\frac{10.5456}{\\sqrt{10}}] = [118.1 - 2.262*3.3348; 118.1 + 2.262*3.3348] = [110.5566; 125.6433]$"
   ]
  },
  {
   "cell_type": "markdown",
   "id": "d90097ce",
   "metadata": {},
   "source": [
    "$[110.5566; 125.6433]$ -  этот интервал покрывает истинное значение $X$ с доверительной вероятностью 95%"
   ]
  },
  {
   "cell_type": "markdown",
   "id": "1fd0d3b2",
   "metadata": {},
   "source": [
    "#### Решение с помощью Python:"
   ]
  },
  {
   "cell_type": "code",
   "execution_count": 31,
   "id": "1bf96152",
   "metadata": {},
   "outputs": [
    {
     "name": "stdout",
     "output_type": "stream",
     "text": [
      "[110.5561 : 125.6439]\n"
     ]
    }
   ],
   "source": [
    "x = np.array([131, 125, 115, 122, 131, 115, 107, 99, 125, 111])\n",
    "result = t_stat(x.mean(), x.std(ddof=1)/(np.sqrt(len(x))), len(x) - 1, 0.05, 'two-sided')\n",
    "print(f'[{np.round(result[0], 4)} : {np.round(result[1], 4)}]')"
   ]
  },
  {
   "cell_type": "code",
   "execution_count": null,
   "id": "3a1aaa1a",
   "metadata": {},
   "outputs": [],
   "source": []
  },
  {
   "cell_type": "markdown",
   "id": "78cddfcb",
   "metadata": {},
   "source": [
    "### Задание 3.\n",
    "####  Известно, что рост футболистов в сборной распределен нормально с дисперсией генеральной совокупности, равной 25 кв.см. \n",
    "####  Объем выборки равен 27, среднее выборочное составляет 174.2. \n",
    "####  Найдите доверительный интервал для математического ожидания с надежностью 0.95."
   ]
  },
  {
   "cell_type": "markdown",
   "id": "d8e1e9eb",
   "metadata": {},
   "source": [
    "Был выполнен анализ генеральной совокупности, значит критерием оценки будет критерий Фишера $Z$ из таблицы распределения Лапласа для $Z<0$, так как мы работаем с доверительным интервалом"
   ]
  },
  {
   "cell_type": "markdown",
   "id": "0b0c2710",
   "metadata": {},
   "source": [
    "Генеральная совокупность распределена нормально, значит можем перейти от $\\alpha$ к $\\frac{\\alpha}{2}$\n"
   ]
  },
  {
   "cell_type": "markdown",
   "id": "92a88266",
   "metadata": {},
   "source": [
    "$P = 0.95 \\implies \\alpha = 1-P = 0.05$"
   ]
  },
  {
   "cell_type": "markdown",
   "id": "2a0021ff",
   "metadata": {},
   "source": [
    "$\\frac{\\alpha}{2} = \\frac{0.05}{2} = 0.025$"
   ]
  },
  {
   "cell_type": "markdown",
   "id": "9da90f2e",
   "metadata": {},
   "source": [
    "Cтандартной ошибкой среднего будет $\\frac{\\sigma}{\\sqrt{n}}$, где $\\sigma$ взята из генеральной совокупности"
   ]
  },
  {
   "cell_type": "markdown",
   "id": "3f3e9867",
   "metadata": {},
   "source": [
    "Находим табличное значение $Z$:"
   ]
  },
  {
   "cell_type": "markdown",
   "id": "c39f4eb0",
   "metadata": {},
   "source": [
    "$Z(P_{Z} = 0.025) = -1.96$"
   ]
  },
  {
   "cell_type": "markdown",
   "id": "609805b9",
   "metadata": {},
   "source": [
    "Находим доверительный интервал по формуле: \n"
   ]
  },
  {
   "cell_type": "markdown",
   "id": "7f1ef6ca",
   "metadata": {},
   "source": [
    "$[\\bar{X_{в}} \\pm Z_{\\frac{\\alpha}{2}} * \\frac{\\sigma}{\\sqrt{n}}] \\implies [174.2 \\pm 1.96 * \\frac{5}{\\sqrt{27}}] = [174.2 - 1.96 * 0.9622; 174.2 + 1.96 * 0.9622]$"
   ]
  },
  {
   "cell_type": "markdown",
   "id": "416ec454",
   "metadata": {},
   "source": [
    "$[172.314; 176.0859]$ -  этот интервал покрывает истинное значение $M(X)$ генеральной совокупности с вероятностью 95%"
   ]
  },
  {
   "cell_type": "markdown",
   "id": "26169ff7",
   "metadata": {},
   "source": [
    "#### Решение с помощью Python:"
   ]
  },
  {
   "cell_type": "code",
   "execution_count": 33,
   "id": "86f3691e",
   "metadata": {},
   "outputs": [
    {
     "name": "stdout",
     "output_type": "stream",
     "text": [
      "[172.314 : 176.086]\n"
     ]
    }
   ],
   "source": [
    "result = z_stat(174.2, np.sqrt(25)/np.sqrt(27), 0.05, 'two-sided')\n",
    "print(f'[{np.round(result[0], 4)} : {np.round(result[1], 4)}]')"
   ]
  },
  {
   "cell_type": "code",
   "execution_count": null,
   "id": "46c6ffbd",
   "metadata": {},
   "outputs": [],
   "source": []
  }
 ],
 "metadata": {
  "kernelspec": {
   "display_name": "Python 3 (ipykernel)",
   "language": "python",
   "name": "python3"
  },
  "language_info": {
   "codemirror_mode": {
    "name": "ipython",
    "version": 3
   },
   "file_extension": ".py",
   "mimetype": "text/x-python",
   "name": "python",
   "nbconvert_exporter": "python",
   "pygments_lexer": "ipython3",
   "version": "3.9.7"
  }
 },
 "nbformat": 4,
 "nbformat_minor": 5
}
