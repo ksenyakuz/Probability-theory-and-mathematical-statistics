{
 "cells": [
  {
   "cell_type": "markdown",
   "id": "ec3622c6",
   "metadata": {},
   "source": [
    "### 1. Вероятность того, что стрелок попадет в мишень, выстрелив один раз, равна 0.8. Стрелок выстрелил 100 раз. Найдите вероятность того, что стрелок попадет в цель ровно 85 раз."
   ]
  },
  {
   "cell_type": "markdown",
   "id": "ddb0a1ec",
   "metadata": {},
   "source": [
    "$$P = C_{n}^{k} * p^{k} * (1 - p)^{n-k} = C_{n}^{k} * p^{k} * q^{n-k} = C_{100}^{85} * 0.8^{85} * 0.2^{15}\n",
    "$$"
   ]
  },
  {
   "cell_type": "markdown",
   "id": "00727ea9",
   "metadata": {},
   "source": [
    "n = 100;\n",
    "k = 85;\n",
    "p = 0.8"
   ]
  },
  {
   "cell_type": "code",
   "execution_count": 2,
   "id": "fa080db7",
   "metadata": {},
   "outputs": [],
   "source": [
    "import numpy as np\n",
    "from math import factorial as f\n",
    "\n",
    "def choose(n,k):\n",
    "    return f(n) / (f(k) * f(n-k))\n",
    "\n",
    "def bern(p, n, k):\n",
    "    return choose(n,k) * p**(k) * (1 - p)**(n - k)\n",
    "\n",
    "def puas(l,m):\n",
    "    return l**m/f(m)*np.exp(-l)"
   ]
  },
  {
   "cell_type": "code",
   "execution_count": 3,
   "id": "9c8df3da",
   "metadata": {},
   "outputs": [
    {
     "data": {
      "text/plain": [
       "0.048061793700746355"
      ]
     },
     "execution_count": 3,
     "metadata": {},
     "output_type": "execute_result"
    }
   ],
   "source": [
    "bern(0.8, 100, 85)"
   ]
  },
  {
   "cell_type": "markdown",
   "id": "a9535667",
   "metadata": {},
   "source": [
    "### 2. Вероятность того, что лампочка перегорит в течение первого дня эксплуатации, равна 0.0004. В жилом комплексе после ремонта в один день включили 5000 новых лампочек. Какова вероятность, что ни одна из них не перегорит в первый день? Какова вероятность, что перегорят ровно две?"
   ]
  },
  {
   "cell_type": "markdown",
   "id": "9d609b0e",
   "metadata": {},
   "source": [
    "#### 2.1. Какова вероятность, что ни одна из них не перегорит в первый день?"
   ]
  },
  {
   "cell_type": "markdown",
   "id": "499c06d9",
   "metadata": {},
   "source": [
    "$$P\\approx\\frac{\\lambda^{m}}{m!} * e^{-\\lambda}\\approx\\frac{2^{0}}{0!} * e^{-2}$$"
   ]
  },
  {
   "cell_type": "markdown",
   "id": "1e6b59fb",
   "metadata": {},
   "source": [
    "$\\lambda = 5000 * 0.0004 = 2$"
   ]
  },
  {
   "cell_type": "markdown",
   "id": "cda15f8e",
   "metadata": {},
   "source": [
    "$m = 0$"
   ]
  },
  {
   "cell_type": "code",
   "execution_count": 5,
   "id": "8bdcf48f",
   "metadata": {},
   "outputs": [],
   "source": [
    "lmbd = 5000*0.0004"
   ]
  },
  {
   "cell_type": "code",
   "execution_count": 6,
   "id": "f1b70117",
   "metadata": {},
   "outputs": [
    {
     "data": {
      "text/plain": [
       "0.1353352832366127"
      ]
     },
     "execution_count": 6,
     "metadata": {},
     "output_type": "execute_result"
    }
   ],
   "source": [
    "puas(lmbd, 0)"
   ]
  },
  {
   "cell_type": "markdown",
   "id": "71cfb03b",
   "metadata": {},
   "source": [
    "#### 2.2. Какова вероятность, что перегорят ровно две?"
   ]
  },
  {
   "cell_type": "markdown",
   "id": "93d7a488",
   "metadata": {},
   "source": [
    "$$P\\approx\\frac{\\lambda^{m}}{m!} * e^{-\\lambda}\\approx\\frac{2^{2}}{2!} * e^{-2}$$"
   ]
  },
  {
   "cell_type": "code",
   "execution_count": 7,
   "id": "6e54441d",
   "metadata": {},
   "outputs": [
    {
     "data": {
      "text/plain": [
       "0.2706705664732254"
      ]
     },
     "execution_count": 7,
     "metadata": {},
     "output_type": "execute_result"
    }
   ],
   "source": [
    "puas(lmbd, 2)"
   ]
  },
  {
   "cell_type": "markdown",
   "id": "2c4d77e4",
   "metadata": {},
   "source": [
    "### 3. Монету подбросили 144 раза. Какова вероятность, что орел выпадет ровно 70 раз?"
   ]
  },
  {
   "cell_type": "code",
   "execution_count": 8,
   "id": "786eec71",
   "metadata": {},
   "outputs": [
    {
     "data": {
      "text/plain": [
       "0.06281178035144776"
      ]
     },
     "execution_count": 8,
     "metadata": {},
     "output_type": "execute_result"
    }
   ],
   "source": [
    "bern(0.5, 144, 70)"
   ]
  },
  {
   "cell_type": "markdown",
   "id": "f7aa21a4",
   "metadata": {},
   "source": [
    "### 4. В первом ящике находится 10 мячей, из которых 7 - белые. Во втором ящике - 11 мячей, из которых 9 белых. Из каждого ящика вытаскивают случайным образом по два мяча. Какова вероятность того, что все мячи белые? Какова вероятность того, что ровно два мяча белые? Какова вероятность того, что хотя бы один мяч белый?"
   ]
  },
  {
   "cell_type": "markdown",
   "id": "23c29925",
   "metadata": {},
   "source": [
    "#### 4.1. Какова вероятность того, что все мячи белые?"
   ]
  },
  {
   "cell_type": "markdown",
   "id": "a716171d",
   "metadata": {},
   "source": [
    "$$P = (\\frac{7}{10}* \\frac{6}{9}) * (\\frac{9}{11}* \\frac{8}{10})$$"
   ]
  },
  {
   "cell_type": "code",
   "execution_count": 9,
   "id": "000628e7",
   "metadata": {},
   "outputs": [
    {
     "data": {
      "text/plain": [
       "0.3054545454545455"
      ]
     },
     "execution_count": 9,
     "metadata": {},
     "output_type": "execute_result"
    }
   ],
   "source": [
    "(7*6*9*8)/(10*9*11*10)"
   ]
  },
  {
   "cell_type": "markdown",
   "id": "e516cd90",
   "metadata": {},
   "source": [
    "#### 4.2. Какова вероятность того, что ровно два мяча белые?"
   ]
  },
  {
   "cell_type": "markdown",
   "id": "b79a11e1",
   "metadata": {},
   "source": [
    "6 возможных вариантов = (бб)(чч)+(бч)(бч)+(бч)(чб)+(чб)(бч)+(чб)(чб)+(чч)(бб)"
   ]
  },
  {
   "cell_type": "code",
   "execution_count": 11,
   "id": "8ada6405",
   "metadata": {},
   "outputs": [
    {
     "data": {
      "text/plain": [
       "0.20484848484848484"
      ]
     },
     "execution_count": 11,
     "metadata": {},
     "output_type": "execute_result"
    }
   ],
   "source": [
    "(7/10)*(6/9)*(2/11)*(1/10) + (7/10)*(3/9)*(9/11)*(2/10) + (7/10)*(3/9)*(2/11)*(9/10) + \\\n",
    "(3/10)*(7/9)*(9/11)*(2/10) + (3/10)*(7/9)*(2/11)*(9/10) + (3/10)*(2/9)*(9/11)*(8/10)"
   ]
  },
  {
   "cell_type": "markdown",
   "id": "253bca4f",
   "metadata": {},
   "source": [
    "#### 4.3. Какова вероятность того, что хотя бы один мяч белый?"
   ]
  },
  {
   "cell_type": "markdown",
   "id": "84aca084",
   "metadata": {},
   "source": [
    "1 - вероятность что все черные"
   ]
  },
  {
   "cell_type": "code",
   "execution_count": 12,
   "id": "ccdf647d",
   "metadata": {},
   "outputs": [
    {
     "data": {
      "text/plain": [
       "0.9987878787878788"
      ]
     },
     "execution_count": 12,
     "metadata": {},
     "output_type": "execute_result"
    }
   ],
   "source": [
    "1-(3/10*2/9*2/11*1/10)"
   ]
  },
  {
   "cell_type": "code",
   "execution_count": null,
   "id": "d28eab64",
   "metadata": {},
   "outputs": [],
   "source": []
  }
 ],
 "metadata": {
  "kernelspec": {
   "display_name": "Python 3 (ipykernel)",
   "language": "python",
   "name": "python3"
  },
  "language_info": {
   "codemirror_mode": {
    "name": "ipython",
    "version": 3
   },
   "file_extension": ".py",
   "mimetype": "text/x-python",
   "name": "python",
   "nbconvert_exporter": "python",
   "pygments_lexer": "ipython3",
   "version": "3.9.7"
  }
 },
 "nbformat": 4,
 "nbformat_minor": 5
}
